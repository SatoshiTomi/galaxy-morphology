{
 "cells": [
  {
   "cell_type": "markdown",
   "metadata": {},
   "source": [
    "## 銀河イメージデータのダウンロード"
   ]
  },
  {
   "cell_type": "code",
   "execution_count": 1,
   "metadata": {},
   "outputs": [],
   "source": [
    "import os, shutil\n",
    "import sys, time\n",
    "import numpy as np\n",
    "from astropy.io import fits\n",
    "import urllib.request, urllib.parse\n",
    "from bs4 import BeautifulSoup\n",
    "\n",
    "# 作業用ディレクトリ定義（要カスタマイズ）\n",
    "galaxy_data_directory = '/home/satoshi/Galaxy/'"
   ]
  },
  {
   "cell_type": "markdown",
   "metadata": {},
   "source": [
    "#### 'Galaxy Zoo 2'カタログを「楕円銀河」カタログと「渦巻銀河」カタログに分割する"
   ]
  },
  {
   "cell_type": "code",
   "execution_count": 2,
   "metadata": {},
   "outputs": [
    {
     "name": "stdout",
     "output_type": "stream",
     "text": [
      "all data rows =  239695\n",
      "elliptical data rows =  97670\n",
      "spiral data rows =  141430\n"
     ]
    }
   ],
   "source": [
    "# Galaxy Zoo 2\"カタログをhttp://gz2hart.s3.amazonaws.com/gz2_hart16.fits.gzからダウンロードし解凍し、galaxy_data_directory配下にコピー\n",
    "gz2_catalog = galaxy_data_directory  + 'gz2_hart16.fits'\n",
    "\n",
    "with fits.open(gz2_catalog) as hdul:\n",
    "    data = hdul[1].data\n",
    "    \n",
    "    print('all data rows = ', data.shape[0])\n",
    "    gz2class=np.empty(data.shape[0], dtype=np.object)\n",
    "    \n",
    "    for i in range(data.shape[0]):    \n",
    "        gz2class[i]=data.field('gz2_class')[i][0]\n",
    "\n",
    "    # 分類クラス名が'E'ではじまるクラス（＝「楕円銀河」）のデータを抽出する\n",
    "    mask= gz2class=='E'\n",
    "    newdata=data[mask]\n",
    "    print('elliptical data rows = ', newdata.shape[0])\n",
    "    \n",
    "    # 「楕円銀河」カタログを分離\n",
    "    hdul=fits.BinTableHDU(data=newdata)\n",
    "    hdul.writeto(galaxy_data_directory + 'elliptical.fits') \n",
    "\n",
    "   # 分類クラス名が'S'ではじまるクラス（＝「渦巻銀河」）のデータを抽出する    \n",
    "    mask= gz2class=='S' \n",
    "    newdata=data[mask]\n",
    "    print('spiral data rows = ', newdata.shape[0])\n",
    "\n",
    "    # 「渦巻銀河」カタログを分離\n",
    "    hdul=fits.BinTableHDU(data=newdata)\n",
    "    hdul.writeto(galaxy_data_directory + 'spiral.fits') "
   ]
  },
  {
   "cell_type": "markdown",
   "metadata": {},
   "source": [
    "#### 「楕円銀河」イメージデータのダウンロード"
   ]
  },
  {
   "cell_type": "code",
   "execution_count": 3,
   "metadata": {
    "scrolled": true
   },
   "outputs": [
    {
     "name": "stdout",
     "output_type": "stream",
     "text": [
      "3999    completed\n"
     ]
    }
   ],
   "source": [
    "# 「楕円銀河」カタログ\n",
    "elliptical_catalog = galaxy_data_directory + 'elliptical.fits'\n",
    "elliptical_directory = galaxy_data_directory + 'elliptical'\n",
    "os.mkdir(elliptical_directory)\n",
    "\n",
    "# 「楕円銀河」カタログ最初の4000件のイメージデータをダウンロード\n",
    "for i in range(4000):    \n",
    "\n",
    "    with fits.open(elliptical_catalog) as hdul:\n",
    "        data = hdul[1].data\n",
    "        ra = str(data[i].field('ra'))\n",
    "        dec = str(data[i].field('dec'))\n",
    "        objid = str(data[i].field('dr7objid'))\n",
    "        gz2class = data[i].field('gz2_class')\n",
    "\n",
    "    # SDSS DR7 RDB Galaxyデーブル検索SQL\n",
    "    query_params = {\n",
    "        'format': 'html', 'cmd': 'SELECT objID, petroR90_r FROM Galaxy WHERE objID = ' + objid\n",
    "    }\n",
    "    \n",
    "    q = urllib.parse.urlencode(query_params)\n",
    "    \n",
    "    # SDSS DR7 RDB検索サービス\n",
    "    dr7_sql_url = 'http://cas.sdss.org/dr7/en/tools/search/x_sql.asp?' + q\n",
    "    \n",
    "    for _ in range(3):\n",
    "        try:\n",
    "            with urllib.request.urlopen(dr7_sql_url, timeout=5) as res:\n",
    "                html = res.read().decode(\"utf-8\")\n",
    "        except Exception as e:\n",
    "            pass\n",
    "        else:\n",
    "            break\n",
    "    else:\n",
    "        pass  \n",
    "            \n",
    "    soup = BeautifulSoup(html, \"html.parser\")\n",
    "    list = soup.find_all(\"td\")\n",
    "    # scale = 0.02 x  petroR90_r　（ペトロシアン半径）\n",
    "    scale = str(0.02 * float(list[3].string) )          \n",
    "    # 128pixel * 128pixel\n",
    "    galaxy_params = {\n",
    "        'ra': ra, 'dec': dec, 'scale': scale, 'width': '128', 'height': '128'\n",
    "    } \n",
    "    p = urllib.parse.urlencode(galaxy_params)\n",
    "    \n",
    "    # SDSS DR7 ImageCutout サービス\n",
    "    dr7_imagecutout_url = 'http://skyservice.pha.jhu.edu/DR7/ImgCutout/getjpeg.aspx?' + p\n",
    "   \n",
    "    for _ in range(3):\n",
    "        try:\n",
    "            with urllib.request.urlopen(dr7_imagecutout_url, timeout=5) as res:\n",
    "                jpeg_data = res.read()\n",
    "        except Exception as e:\n",
    "            pass\n",
    "        else:\n",
    "            break\n",
    "    else:\n",
    "        pass \n",
    "    \n",
    "    # 「楕円銀河」jpegイメージデータファイル名\n",
    "    elliptical_filename = elliptical_directory + '/' + objid + '_' + gz2class + '_' + scale[:4] + '.jpeg'\n",
    "       \n",
    "    with open(elliptical_filename, 'wb') as f:\n",
    "        f.write(jpeg_data)\n",
    "        \n",
    "    sys.stdout.write('\\r{}' .format(i))\n",
    "    sys.stdout.flush()\n",
    "    time.sleep(1.0)\n",
    "    \n",
    "print('    completed')"
   ]
  },
  {
   "cell_type": "markdown",
   "metadata": {},
   "source": [
    "#### 「渦巻銀河」イメージデータのダウンロード"
   ]
  },
  {
   "cell_type": "code",
   "execution_count": 4,
   "metadata": {
    "scrolled": true
   },
   "outputs": [
    {
     "name": "stdout",
     "output_type": "stream",
     "text": [
      "3999    completed\n"
     ]
    }
   ],
   "source": [
    "# 「渦巻銀河」カタログ\n",
    "spiral_catalog = galaxy_data_directory + 'spiral.fits'\n",
    "spiral_directory = galaxy_data_directory + 'spiral'\n",
    "os.mkdir(spiral_directory)\n",
    "\n",
    "# 「渦巻銀河」カタログ最初の4000件のイメージデータをダウンロード\n",
    "for i in range(4000):   \n",
    "          \n",
    "    with fits.open(spiral_catalog) as hdul:\n",
    "        data = hdul[1].data\n",
    "        ra = str(data[i].field('ra'))\n",
    "        dec = str(data[i].field('dec'))\n",
    "        objid = str(data[i].field('dr7objid'))\n",
    "        gz2class = data[i].field('gz2_class')\n",
    "\n",
    "     # SDSS DR7 RDB Galaxyデーブル検索SQL\n",
    "    query_params = {\n",
    "        'format': 'html', 'cmd': 'SELECT objID, petroR90_r FROM Galaxy WHERE objID = ' + objid\n",
    "    }\n",
    "    \n",
    "    q = urllib.parse.urlencode(query_params)\n",
    "    \n",
    "    # SDSS DR7 RDB検索サービス\n",
    "    dr7_sql_url = 'http://cas.sdss.org/dr7/en/tools/search/x_sql.asp?' + q\n",
    "    \n",
    "    for _ in range(3):\n",
    "        try:\n",
    "            with urllib.request.urlopen(dr7_sql_url, timeout=5) as res:\n",
    "                html = res.read().decode(\"utf-8\")\n",
    "        except Exception as e:\n",
    "            pass\n",
    "        else:\n",
    "            break\n",
    "    else:\n",
    "        pass       \n",
    "                \n",
    "    soup = BeautifulSoup(html, \"html.parser\")\n",
    "    list = soup.find_all(\"td\")\n",
    "   # scale = 0.02 x  petroR90_r　（ペトロシアン半径） \n",
    "    scale = str(0.03 * float(list[3].string) )   \n",
    "    # 128pixel * 128pixel      \n",
    "    galaxy_params = {\n",
    "        'ra': ra, 'dec': dec, 'scale': scale, 'width': '128', 'height': '128'\n",
    "    } \n",
    "    p = urllib.parse.urlencode(galaxy_params)\n",
    "    \n",
    "   # SDSS DR7 ImageCutout サービス \n",
    "    dr7_imagecutout_url = 'http://skyservice.pha.jhu.edu/DR7/ImgCutout/getjpeg.aspx?' + p\n",
    "    \n",
    "    for _ in range(3):\n",
    "        try:\n",
    "            with urllib.request.urlopen(dr7_imagecutout_url, timeout=5) as res:\n",
    "                jpeg_data = res.read()\n",
    "        except Exception as e:\n",
    "            pass\n",
    "        else:\n",
    "            break\n",
    "    else:\n",
    "            pass\n",
    "        \n",
    "    # 「渦巻銀河」jpegイメージデータファイル名\n",
    "    spiral_filename = spiral_directory + '/' + objid + '_' + gz2class + '_' + scale[:4] + '.jpeg'\n",
    "        \n",
    "    with open(spiral_filename, 'wb') as f:\n",
    "        f.write(jpeg_data)\n",
    "    \n",
    "    sys.stdout.write('\\r{}' .format(i))\n",
    "    sys.stdout.flush()\n",
    "    time.sleep(1.0)\n",
    "    \n",
    "print('    completed')"
   ]
  },
  {
   "cell_type": "code",
   "execution_count": null,
   "metadata": {},
   "outputs": [],
   "source": []
  }
 ],
 "metadata": {
  "kernelspec": {
   "display_name": "Python 3",
   "language": "python",
   "name": "python3"
  },
  "language_info": {
   "codemirror_mode": {
    "name": "ipython",
    "version": 3
   },
   "file_extension": ".py",
   "mimetype": "text/x-python",
   "name": "python",
   "nbconvert_exporter": "python",
   "pygments_lexer": "ipython3",
   "version": "3.6.5"
  }
 },
 "nbformat": 4,
 "nbformat_minor": 2
}
