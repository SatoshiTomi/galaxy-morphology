{
 "cells": [
  {
   "cell_type": "markdown",
   "metadata": {},
   "source": [
    "## Kerasによる銀河形態分類（2クラス）畳み込みニューラルネット  \n",
    "### Chollet, F. (2018). *Deep Learning with Python.* Manning Publications Co. Chapter 5参照"
   ]
  },
  {
   "cell_type": "code",
   "execution_count": 1,
   "metadata": {},
   "outputs": [
    {
     "name": "stderr",
     "output_type": "stream",
     "text": [
      "/home/satoshi/anaconda3/envs/tensorflow/lib/python3.6/site-packages/h5py/__init__.py:36: FutureWarning: Conversion of the second argument of issubdtype from `float` to `np.floating` is deprecated. In future, it will be treated as `np.float64 == np.dtype(float).type`.\n",
      "  from ._conv import register_converters as _register_converters\n",
      "Using TensorFlow backend.\n"
     ]
    }
   ],
   "source": [
    "import os, shutil\n",
    "import sys, time\n",
    "import keras\n",
    "keras.__version__\n",
    "\n",
    "# 作業用ディレクトリ定義（要カスタマイズ）\n",
    "galaxy_data_directory = '/home/satoshi/Galaxy/'"
   ]
  },
  {
   "cell_type": "markdown",
   "metadata": {},
   "source": [
    "#### データセットの準備"
   ]
  },
  {
   "cell_type": "code",
   "execution_count": 2,
   "metadata": {},
   "outputs": [],
   "source": [
    "elliptical_directory = galaxy_data_directory + 'elliptical'\n",
    "spiral_directory = galaxy_data_directory + 'spiral'\n",
    "\n",
    "train_dir = galaxy_data_directory + 'train'\n",
    "os.mkdir(train_dir)\n",
    "validation_dir = galaxy_data_directory + 'validation'\n",
    "os.mkdir(validation_dir)\n",
    "test_dir = galaxy_data_directory + 'test'\n",
    "os.mkdir(test_dir)\n",
    "\n",
    "train_elliptical_dir = train_dir + '/elliptical'\n",
    "os.mkdir(train_elliptical_dir)\n",
    "train_spiral_dir = train_dir + '/spiral'\n",
    "os.mkdir(train_spiral_dir)\n",
    "\n",
    "validation_elliptical_dir = validation_dir + '/elliptical'\n",
    "os.mkdir(validation_elliptical_dir)\n",
    "validation_spiral_dir = validation_dir + '/spiral'\n",
    "os.mkdir(validation_spiral_dir)\n",
    "\n",
    "test_elliptical_dir = test_dir + '/elliptical'\n",
    "os.mkdir(test_elliptical_dir)\n",
    "test_spiral_dir = test_dir + '/spiral'\n",
    "os.mkdir(test_spiral_dir)\n",
    "\n",
    "# 楕円銀河訓練データセット：　2000件\n",
    "train_elliptical_fnames = [fname for fname in os.listdir(elliptical_directory )][:2000]\n",
    "for fname in train_elliptical_fnames:\n",
    "    src = os.path.join(elliptical_directory, fname)\n",
    "    dst = os.path.join(train_elliptical_dir, fname)\n",
    "    shutil.copyfile(src, dst)\n",
    "# 楕円銀河検証データセット：　1000件\n",
    "validation_elliptical_fnames = [fname for fname in os.listdir(elliptical_directory )][2000:3000]\n",
    "for fname in validation_elliptical_fnames:\n",
    "    src = os.path.join(elliptical_directory, fname)\n",
    "    dst = os.path.join(validation_elliptical_dir, fname)\n",
    "    shutil.copyfile(src, dst)\n",
    "# 楕円銀河テストデータセット：　1000件    \n",
    "test_elliptical_fnames = [fname for fname in os.listdir(elliptical_directory )][3000:4000]\n",
    "for fname in test_elliptical_fnames:\n",
    "    src = os.path.join(elliptical_directory, fname)\n",
    "    dst = os.path.join(test_elliptical_dir, fname)\n",
    "    shutil.copyfile(src, dst)\n",
    "\n",
    "# 渦巻銀河訓練データセット：　2000件    \n",
    "train_spiral_fnames = [fname for fname in os.listdir(spiral_directory)][:2000]\n",
    "for fname in train_spiral_fnames:\n",
    "    src = os.path.join(spiral_directory, fname)\n",
    "    dst = os.path.join(train_spiral_dir, fname)\n",
    "    shutil.copyfile(src, dst)\n",
    "# 渦巻銀河検証データセット：　1000件\n",
    "validation_spiral_fnames = [fname for fname in os.listdir(spiral_directory)][2000:3000]\n",
    "for fname in validation_spiral_fnames:\n",
    "    src = os.path.join(spiral_directory, fname)\n",
    "    dst = os.path.join(validation_spiral_dir, fname)\n",
    "    shutil.copyfile(src, dst)\n",
    "# 渦巻銀河テストデータセット：　1000件    \n",
    "test_spiral_fnames = [fname for fname in os.listdir(spiral_directory)][3000:4000]\n",
    "for fname in test_spiral_fnames:\n",
    "    src = os.path.join(spiral_directory, fname)\n",
    "    dst = os.path.join(test_spiral_dir, fname)\n",
    "    shutil.copyfile(src, dst)"
   ]
  },
  {
   "cell_type": "markdown",
   "metadata": {},
   "source": [
    "#### Keras Conv2Dモデル  "
   ]
  },
  {
   "cell_type": "code",
   "execution_count": 3,
   "metadata": {},
   "outputs": [
    {
     "name": "stdout",
     "output_type": "stream",
     "text": [
      "_________________________________________________________________\n",
      "Layer (type)                 Output Shape              Param #   \n",
      "=================================================================\n",
      "conv2d_1 (Conv2D)            (None, 126, 126, 32)      896       \n",
      "_________________________________________________________________\n",
      "max_pooling2d_1 (MaxPooling2 (None, 63, 63, 32)        0         \n",
      "_________________________________________________________________\n",
      "conv2d_2 (Conv2D)            (None, 61, 61, 64)        18496     \n",
      "_________________________________________________________________\n",
      "max_pooling2d_2 (MaxPooling2 (None, 30, 30, 64)        0         \n",
      "_________________________________________________________________\n",
      "conv2d_3 (Conv2D)            (None, 28, 28, 128)       73856     \n",
      "_________________________________________________________________\n",
      "max_pooling2d_3 (MaxPooling2 (None, 14, 14, 128)       0         \n",
      "_________________________________________________________________\n",
      "conv2d_4 (Conv2D)            (None, 12, 12, 128)       147584    \n",
      "_________________________________________________________________\n",
      "max_pooling2d_4 (MaxPooling2 (None, 6, 6, 128)         0         \n",
      "_________________________________________________________________\n",
      "flatten_1 (Flatten)          (None, 4608)              0         \n",
      "_________________________________________________________________\n",
      "dropout_1 (Dropout)          (None, 4608)              0         \n",
      "_________________________________________________________________\n",
      "dense_1 (Dense)              (None, 512)               2359808   \n",
      "_________________________________________________________________\n",
      "dense_2 (Dense)              (None, 1)                 513       \n",
      "=================================================================\n",
      "Total params: 2,601,153\n",
      "Trainable params: 2,601,153\n",
      "Non-trainable params: 0\n",
      "_________________________________________________________________\n"
     ]
    }
   ],
   "source": [
    "from keras import layers\n",
    "from keras import models\n",
    "\n",
    "model = models.Sequential()\n",
    "model.add(layers.Conv2D(32, (3, 3), activation='relu', \n",
    "                        input_shape=(128, 128, 3)))\n",
    "model.add(layers.MaxPooling2D((2, 2)))\n",
    "model.add(layers.Conv2D(64, (3, 3), activation='relu')) \n",
    "model.add(layers.MaxPooling2D((2, 2)))\n",
    "model.add(layers.Conv2D(128, (3, 3), activation='relu'))\n",
    "model.add(layers.MaxPooling2D((2, 2)))\n",
    "model.add(layers.Conv2D(128, (3, 3), activation='relu'))\n",
    "model.add(layers.MaxPooling2D((2, 2)))\n",
    "model.add(layers.Flatten())\n",
    "model.add(layers.Dropout(0.5))\n",
    "model.add(layers.Dense(512, activation='relu'))\n",
    "model.add(layers.Dense(1, activation='sigmoid'))\n",
    "\n",
    "model.summary()"
   ]
  },
  {
   "cell_type": "markdown",
   "metadata": {},
   "source": [
    "#### モデルのコンパイル"
   ]
  },
  {
   "cell_type": "code",
   "execution_count": 4,
   "metadata": {},
   "outputs": [],
   "source": [
    "from keras import optimizers\n",
    "\n",
    "model.compile(loss='binary_crossentropy',\n",
    "        optimizer=optimizers.RMSprop(lr=1e-4),\n",
    "        metrics=['acc'])"
   ]
  },
  {
   "cell_type": "markdown",
   "metadata": {},
   "source": [
    "#### イメージデータジェネレータ"
   ]
  },
  {
   "cell_type": "code",
   "execution_count": 5,
   "metadata": {},
   "outputs": [
    {
     "name": "stdout",
     "output_type": "stream",
     "text": [
      "Found 4000 images belonging to 2 classes.\n",
      "Found 2000 images belonging to 2 classes.\n",
      "Found 2000 images belonging to 2 classes.\n"
     ]
    }
   ],
   "source": [
    "from keras.preprocessing.image import ImageDataGenerator\n",
    "\n",
    "# イメージデータのスケール変換\n",
    "train_datagen = ImageDataGenerator(rescale=1./255)\n",
    "validation_datagen = ImageDataGenerator(rescale=1./255)\n",
    "test_datagen = ImageDataGenerator(rescale=1./255)\n",
    "# 訓練データジェネレータ　バッチサイズ：　20\n",
    "train_generator = train_datagen.flow_from_directory(\n",
    "        train_dir,\n",
    "        target_size=(128, 128),\n",
    "        batch_size=20,\n",
    "        class_mode='binary')\n",
    "# 検証データジェネレータ　バッチサイズ：　20\n",
    "validation_generator = validation_datagen.flow_from_directory(\n",
    "        validation_dir,\n",
    "        target_size=(128, 128),\n",
    "        batch_size=20,\n",
    "        class_mode='binary')\n",
    "# テストデータジェネレータ　バッチサイズ：　20\n",
    "test_generator = test_datagen.flow_from_directory(\n",
    "        test_dir,\n",
    "        target_size=(128, 128),\n",
    "        batch_size=20,\n",
    "        class_mode='binary')"
   ]
  },
  {
   "cell_type": "markdown",
   "metadata": {},
   "source": [
    "#### モデルの学習"
   ]
  },
  {
   "cell_type": "code",
   "execution_count": 6,
   "metadata": {},
   "outputs": [
    {
     "name": "stdout",
     "output_type": "stream",
     "text": [
      "Epoch 1/30\n",
      "200/200 [==============================] - 16s 78ms/step - loss: 0.1864 - acc: 0.9267 - val_loss: 0.0971 - val_acc: 0.9670\n",
      "Epoch 2/30\n",
      "200/200 [==============================] - 7s 35ms/step - loss: 0.1186 - acc: 0.9595 - val_loss: 0.0876 - val_acc: 0.9680\n",
      "Epoch 3/30\n",
      "200/200 [==============================] - 7s 36ms/step - loss: 0.1073 - acc: 0.9665 - val_loss: 0.1144 - val_acc: 0.9605\n",
      "Epoch 4/30\n",
      "200/200 [==============================] - 7s 36ms/step - loss: 0.1041 - acc: 0.9667 - val_loss: 0.3536 - val_acc: 0.8630\n",
      "Epoch 5/30\n",
      "200/200 [==============================] - 7s 35ms/step - loss: 0.1028 - acc: 0.9675 - val_loss: 0.0840 - val_acc: 0.9710\n",
      "Epoch 6/30\n",
      "200/200 [==============================] - 7s 35ms/step - loss: 0.0972 - acc: 0.9690 - val_loss: 0.0829 - val_acc: 0.9705\n",
      "Epoch 7/30\n",
      "200/200 [==============================] - 7s 36ms/step - loss: 0.0948 - acc: 0.9705 - val_loss: 0.0755 - val_acc: 0.9755\n",
      "Epoch 8/30\n",
      "200/200 [==============================] - 7s 36ms/step - loss: 0.0896 - acc: 0.9732 - val_loss: 0.0975 - val_acc: 0.9685\n",
      "Epoch 9/30\n",
      "200/200 [==============================] - 7s 35ms/step - loss: 0.0924 - acc: 0.9737 - val_loss: 0.0747 - val_acc: 0.9745\n",
      "Epoch 10/30\n",
      "200/200 [==============================] - 7s 36ms/step - loss: 0.0877 - acc: 0.9715 - val_loss: 0.1237 - val_acc: 0.9615\n",
      "Epoch 11/30\n",
      "200/200 [==============================] - 7s 36ms/step - loss: 0.0847 - acc: 0.9715 - val_loss: 0.0731 - val_acc: 0.9760\n",
      "Epoch 12/30\n",
      "200/200 [==============================] - 7s 36ms/step - loss: 0.0815 - acc: 0.9755 - val_loss: 0.0732 - val_acc: 0.9760\n",
      "Epoch 13/30\n",
      "200/200 [==============================] - 7s 36ms/step - loss: 0.0865 - acc: 0.9720 - val_loss: 0.0754 - val_acc: 0.9720\n",
      "Epoch 14/30\n",
      "200/200 [==============================] - 7s 36ms/step - loss: 0.0812 - acc: 0.9755 - val_loss: 0.0864 - val_acc: 0.9700\n",
      "Epoch 15/30\n",
      "200/200 [==============================] - 7s 37ms/step - loss: 0.0758 - acc: 0.9765 - val_loss: 0.0701 - val_acc: 0.9755\n",
      "Epoch 16/30\n",
      "200/200 [==============================] - 7s 36ms/step - loss: 0.0790 - acc: 0.9752 - val_loss: 0.0686 - val_acc: 0.9775\n",
      "Epoch 17/30\n",
      "200/200 [==============================] - 7s 36ms/step - loss: 0.0737 - acc: 0.9750 - val_loss: 0.0695 - val_acc: 0.9750\n",
      "Epoch 18/30\n",
      "200/200 [==============================] - 7s 36ms/step - loss: 0.0748 - acc: 0.9750 - val_loss: 0.0675 - val_acc: 0.9795\n",
      "Epoch 19/30\n",
      "200/200 [==============================] - 7s 36ms/step - loss: 0.0707 - acc: 0.9777 - val_loss: 0.0777 - val_acc: 0.9720\n",
      "Epoch 20/30\n",
      "200/200 [==============================] - 7s 36ms/step - loss: 0.0675 - acc: 0.9772 - val_loss: 0.0793 - val_acc: 0.9755\n",
      "Epoch 21/30\n",
      "200/200 [==============================] - 7s 36ms/step - loss: 0.0705 - acc: 0.9770 - val_loss: 0.1078 - val_acc: 0.9690\n",
      "Epoch 22/30\n",
      "200/200 [==============================] - 7s 36ms/step - loss: 0.0634 - acc: 0.9807 - val_loss: 0.0868 - val_acc: 0.9690\n",
      "Epoch 23/30\n",
      "200/200 [==============================] - 7s 36ms/step - loss: 0.0631 - acc: 0.9810 - val_loss: 0.0659 - val_acc: 0.9770\n",
      "Epoch 24/30\n",
      "200/200 [==============================] - 7s 36ms/step - loss: 0.0604 - acc: 0.9800 - val_loss: 0.0684 - val_acc: 0.9795\n",
      "Epoch 25/30\n",
      "200/200 [==============================] - 7s 36ms/step - loss: 0.0624 - acc: 0.9792 - val_loss: 0.0805 - val_acc: 0.9750\n",
      "Epoch 26/30\n",
      "200/200 [==============================] - 7s 36ms/step - loss: 0.0599 - acc: 0.9820 - val_loss: 0.1264 - val_acc: 0.9665\n",
      "Epoch 27/30\n",
      "200/200 [==============================] - 7s 36ms/step - loss: 0.0589 - acc: 0.9792 - val_loss: 0.0919 - val_acc: 0.9755\n",
      "Epoch 28/30\n",
      "200/200 [==============================] - 7s 36ms/step - loss: 0.0599 - acc: 0.9825 - val_loss: 0.0684 - val_acc: 0.9740\n",
      "Epoch 29/30\n",
      "200/200 [==============================] - 7s 37ms/step - loss: 0.0531 - acc: 0.9832 - val_loss: 0.0691 - val_acc: 0.9770\n",
      "Epoch 30/30\n",
      "200/200 [==============================] - 7s 36ms/step - loss: 0.0510 - acc: 0.9807 - val_loss: 0.0858 - val_acc: 0.9790\n"
     ]
    }
   ],
   "source": [
    "# 学習　エポック数：　30\n",
    "history = model.fit_generator(\n",
    "        train_generator,\n",
    "        steps_per_epoch=200,\n",
    "        epochs=30,\n",
    "        # 検証\n",
    "        validation_data=validation_generator,\n",
    "        validation_steps=100)"
   ]
  },
  {
   "cell_type": "code",
   "execution_count": 7,
   "metadata": {},
   "outputs": [],
   "source": [
    "# モデルの退避\n",
    "model.save(galaxy_data_directory + 'galaxy_model.h5')"
   ]
  },
  {
   "cell_type": "markdown",
   "metadata": {},
   "source": [
    "#### 学習履歴のビジュアル化"
   ]
  },
  {
   "cell_type": "code",
   "execution_count": 8,
   "metadata": {},
   "outputs": [
    {
     "data": {
      "image/png": "[encoded data removed]",
      "text/plain": [
       "<Figure size 432x288 with 1 Axes>"
      ]
     },
     "metadata": {},
     "output_type": "display_data"
    },
    {
     "data": {
      "image/png": "[encoded data removed]",
      "text/plain": [
       "<Figure size 432x288 with 1 Axes>"
      ]
     },
     "metadata": {},
     "output_type": "display_data"
    }
   ],
   "source": [
    "%matplotlib inline\n",
    "import matplotlib.pyplot as plt\n",
    "\n",
    "acc = history.history['acc']\n",
    "val_acc = history.history['val_acc']\n",
    "loss = history.history['loss']\n",
    "val_loss = history.history['val_loss']\n",
    "\n",
    "epochs = range(len(acc))\n",
    "\n",
    "plt.plot(epochs, acc, 'bo', label='Training acc')\n",
    "plt.plot(epochs, val_acc, 'b', label='Validation acc')\n",
    "plt.title('Training and validation accuracy')\n",
    "plt.legend()\n",
    "\n",
    "plt.figure()\n",
    "\n",
    "plt.plot(epochs, loss, 'bo', label='Training loss')\n",
    "plt.plot(epochs, val_loss, 'b', label='Validation loss')\n",
    "plt.title('Training and validation loss')\n",
    "plt.legend()\n",
    "\n",
    "plt.show()"
   ]
  },
  {
   "cell_type": "markdown",
   "metadata": {},
   "source": [
    "#### テストデータセットによる精度評価"
   ]
  },
  {
   "cell_type": "code",
   "execution_count": 9,
   "metadata": {},
   "outputs": [
    {
     "name": "stdout",
     "output_type": "stream",
     "text": [
      "Test loss =  0.05891254930873401\n",
      "Test acc  =  0.980999995470047\n"
     ]
    }
   ],
   "source": [
    "metric = model.evaluate_generator(test_generator)\n",
    "print('Test loss = ', metric[0])\n",
    "print('Test acc  = ', metric[1])"
   ]
  },
  {
   "cell_type": "code",
   "execution_count": null,
   "metadata": {},
   "outputs": [],
   "source": []
  }
 ],
 "metadata": {
  "kernelspec": {
   "display_name": "Python 3",
   "language": "python",
   "name": "python3"
  },
  "language_info": {
   "codemirror_mode": {
    "name": "ipython",
    "version": 3
   },
   "file_extension": ".py",
   "mimetype": "text/x-python",
   "name": "python",
   "nbconvert_exporter": "python",
   "pygments_lexer": "ipython3",
   "version": "3.6.5"
  }
 },
 "nbformat": 4,
 "nbformat_minor": 2
}
