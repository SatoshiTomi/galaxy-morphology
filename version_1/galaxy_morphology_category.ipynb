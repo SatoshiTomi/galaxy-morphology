{
 "cells": [
  {
   "cell_type": "markdown",
   "metadata": {},
   "source": [
    "## 銀河形態分類詳細カテゴリ抽出"
   ]
  },
  {
   "cell_type": "code",
   "execution_count": 1,
   "metadata": {},
   "outputs": [],
   "source": [
    "import os, shutil\n",
    "import sys, time\n",
    "import numpy as np\n",
    "import pandas as pd\n",
    "from astropy.io import fits\n",
    "\n",
    "# 作業用ディレクトリ定義（要カスタマイズ）\n",
    "galaxy_data_directory = '/home/satoshi/Galaxy/'"
   ]
  },
  {
   "cell_type": "markdown",
   "metadata": {},
   "source": [
    "#### 「楕円銀河」詳細カテゴリ"
   ]
  },
  {
   "cell_type": "code",
   "execution_count": 2,
   "metadata": {},
   "outputs": [
    {
     "name": "stdout",
     "output_type": "stream",
     "text": [
      "elliptical data rows =  97670\n",
      "unique_elliptical_gz2class =  24\n",
      "['Ei' 'Er' 'Ec' 'Er(o)' 'Ei(r)' 'Ei(m)' 'Ei(o)' 'Er(m)' 'Ei(d)' 'Ei(i)'\n",
      " 'Er(l)' 'Er(r)' 'Ei(l)' 'Er(d)' 'Er(i)' 'Ec(m)' 'Ec(r)' 'Ec(l)' 'Ec(o)'\n",
      " 'Ei(u)' 'Ec(d)' 'Ec(i)' 'Er(u)' 'Ec(u)']\n"
     ]
    }
   ],
   "source": [
    "elliptical_catalog = galaxy_data_directory + 'elliptical.fits'\n",
    "\n",
    "with fits.open(elliptical_catalog) as hdul:\n",
    "    data = hdul[1].data\n",
    "    \n",
    "print('elliptical data rows = ', data.shape[0])\n",
    "elliptical_gz2class=np.empty(data.shape[0], dtype=np.object)\n",
    "    \n",
    "for i in range(data.shape[0]):    \n",
    "    elliptical_gz2class[i]=data.field('gz2_class')[i]\n",
    "\n",
    "unique_elliptical_gz2class = pd.unique(elliptical_gz2class)\n",
    "print('unique_elliptical_gz2class = ', unique_elliptical_gz2class.shape[0])\n",
    "print(unique_elliptical_gz2class)"
   ]
  },
  {
   "cell_type": "markdown",
   "metadata": {},
   "source": [
    "#### 「渦巻銀河」詳細カテゴリ"
   ]
  },
  {
   "cell_type": "code",
   "execution_count": 3,
   "metadata": {},
   "outputs": [
    {
     "name": "stdout",
     "output_type": "stream",
     "text": [
      "spiral data rows =  141430\n",
      "unique_spiral_gz2class =  793\n",
      "['Sc+t' 'Sb+t' 'Sb?t' 'Sb1m(i)' 'Sb2t' 'SBb2m' 'SBc3m' 'Sc2t' 'Sb(d)'\n",
      " 'Sb3t' 'Sb3m' 'SBc(r)' 'Sb' 'Ser' 'SBb+t' 'Sc2m' 'Sb?t(r)' 'Sb1m(d)'\n",
      " 'Sc3t' 'SBb?t(m)' 'Sc(u)' 'Ser(u)' 'SBc2m' 'Ser(m)' 'SBb2t' 'Sc?t(r)'\n",
      " 'Sb?t(d)' 'Sb?m(r)' 'Sb?m' 'SBb4t' 'Ser(o)' 'SBb?t' 'SBc2t' 'SBb2l(i)'\n",
      " 'Sb?t(i)' 'Sb(r)' 'Sb2l(m)' 'SBb2m(r)' 'Sc4m(m)' 'SBc2l' 'Sc?t' 'SBb(r)'\n",
      " 'Sb1m(r)' 'Sc4t' 'Sc3m' 'Sc4m' 'Sb1m(m)' 'SBc4t' 'Sb1m' 'Sa2l(m)' 'SBc?t'\n",
      " 'Sb1t(r)' 'Sc?t(m)' 'SBb' 'Sc(o)' 'SBb3t' 'SBb3t(m)' 'Sb1t(d)' 'SBb2l'\n",
      " 'SBb2l(m)' 'Sb2l(r)' 'Sc2m(r)' 'Sc+m' 'Sc2m(d)' 'SBb3m' 'Sb4t' 'Sb2l'\n",
      " 'Sb1t' 'Sb3m(r)' 'SBb2l(r)' 'Sb3m(m)' 'Sb?m(i)' 'Sb1l(m)' 'Sb+m' 'SBa(o)'\n",
      " 'Sb2m' 'Ser(d)' 'Sc(r)' 'Sb?m(m)' 'SBc4m' 'Sb2m(r)' 'Sb?l(i)' 'SBc3t'\n",
      " 'Sc' 'SBb?m' 'SBc' 'SBb2t(r)' 'Sen' 'SBb4m' 'Sc?t(i)' 'Sb2l(o)'\n",
      " 'SBc2t(r)' 'Sc?m(i)' 'Sb(u)' 'SBb2l(d)' 'Sc4t(o)' 'Sb(o)' 'Sa2t'\n",
      " 'Sb4t(o)' 'Ser(r)' 'SBc+t' 'Sb(m)' 'SBb2m(d)' 'Sc?m(u)' 'Sb2t(r)' 'Sb1l'\n",
      " 'Sb?m(l)' 'Sc2l(m)' 'Sc?m' 'Sc1m(d)' 'SBc?t(r)' 'Sb2m(d)' 'SBb2m(m)'\n",
      " 'Sb(i)' 'Sa(m)' 'Sb2l(i)' 'Sa(i)' 'Sb?l(r)' 'SBb3m(r)' 'Sb2m(m)' 'SBc?m'\n",
      " 'Sb4m' 'SBb?t(r)' 'SBb(d)' 'Sc+t(m)' 'Seb' 'Sb?t(o)' 'Sb?l(d)' 'Sc2t(r)'\n",
      " 'Sc1l(m)' 'SBc?t(m)' 'Sc2m(m)' 'SBc2m(m)' 'SBc(m)' 'Sb1l(r)' 'SBc+m'\n",
      " 'Sb?t(m)' 'Sc?m(d)' 'Sb2l(l)' 'Sc3m(i)' 'Sb?l(m)' 'SBb?m(r)' 'Sc3m(m)'\n",
      " 'SBc3m(m)' 'Sb2m(i)' 'SBc2l(o)' 'SBc?m(m)' 'Sc1t' 'Sc2t(m)' 'Seb(u)'\n",
      " 'Sc2l' 'Sb2l(d)' 'Sen(d)' 'SBd2t' 'Ser(i)' 'Sc?m(o)' 'SBb1l(i)'\n",
      " 'SBc2t(m)' 'Sa(r)' 'SBb1t' 'SBc2l(m)' 'Ser(l)' 'SBb?l(r)' 'Sen(m)'\n",
      " 'SBc2m(r)' 'Sb3l(d)' 'Sc(l)' 'Sc2t(o)' 'Sc2l(d)' 'SBb(m)' 'Sb?l'\n",
      " 'Sb2t(m)' 'SBb2t(m)' 'SBc2t(o)' 'SBa(r)' 'SBb+m' 'Sb3t(o)' 'Sc?t(o)'\n",
      " 'Sen(o)' 'Sb2l(u)' 'Sd(o)' 'Sc+t(r)' 'Sc2m(o)' 'Sb4t(r)' 'SBb2t(o)'\n",
      " 'SBb?l' 'SBb2m(o)' 'Sc1m' 'SBb1t(r)' 'Sc?t(d)' 'Sc2t(l)' 'Sc3m(o)'\n",
      " 'SBc?t(d)' 'SBb4m(d)' 'Sc(i)' 'Sc1m(m)' 'SBc2m(d)' 'Sb3t(m)' 'SBc?m(r)'\n",
      " 'Sen(i)' 'SBc3l' 'SBc2l(r)' 'Sb1l(i)' 'Sa?t(r)' 'SBb2t(d)' 'Sa' 'Sc+m(o)'\n",
      " 'SBc1l(i)' 'SBa' 'Sen(u)' 'Sb?m(d)' 'SBc1t' 'Sc?l(i)' 'Sc3m(r)' 'Sc?m(r)'\n",
      " 'Sb(l)' 'Sb1l(o)' 'SBb1l(r)' 'Sc2m(i)' 'SBc(o)' 'SBc3m(r)' 'SBb1l'\n",
      " 'Sc+t(d)' 'SBc?m(d)' 'Sa(o)' 'Sc?l(o)' 'Sa+t(r)' 'Sb3t(r)' 'Sa1m(r)'\n",
      " 'SBc(u)' 'SBc?l(r)' 'Sc1t(r)' 'Sc3l' 'SBc2m(o)' 'SBd?l(d)' 'Sb2m(o)'\n",
      " 'Sb4m(r)' 'SBd(u)' 'SBb(u)' 'SBb3l' 'SBc2l(d)' 'Sc2l(o)' 'SBa2m'\n",
      " 'Sc3l(i)' 'SBd+t(i)' 'SBc3m(i)' 'Sb1t(i)' 'SBb1m(m)' 'Sa2l(r)' 'SBc?m(i)'\n",
      " 'Sb+t(r)' 'SBb1m' 'SBb4m(m)' 'Sb4l' 'Sc(m)' 'Sd1m(o)' 'Sc?m(m)'\n",
      " 'SBc3l(r)' 'Sc1t(o)' 'SBb2l(o)' 'Sb?l(o)' 'Sb3l(o)' 'Sc+t(o)' 'Sb3m(d)'\n",
      " 'SBc1t(r)' 'Sd(i)' 'SBc?t(u)' 'Sd1l' 'SBb3t(r)' 'SBb?l(m)' 'SBc3l(i)'\n",
      " 'Sb3l(r)' 'SBc2m(i)' 'SBd?m(d)' 'Sd2t(i)' 'Sc(d)' 'SBc(i)' 'SBb?l(d)'\n",
      " 'Sb?m(o)' 'SBc1m' 'Sb3l' 'Sb+l' 'SBc2l(i)' 'Sc3t(m)' 'Sc?l' 'SBb?m(m)'\n",
      " 'SBd?t(m)' 'SBb2l(u)' 'Sb2t(d)' 'Sb1l(d)' 'SBb2m(i)' 'SBb(o)' 'SBb1l(o)'\n",
      " 'Sc?t(u)' 'Sc3t(r)' 'Sd?t' 'SBc1l' 'Sc?l(r)' 'Sc?l(m)' 'Sd?m(i)' 'SBd(i)'\n",
      " 'SBb?l(o)' 'Sc2l(r)' 'SBb2t(i)' 'Sc?l(l)' 'Sc2t(d)' 'Seb(m)' 'Sd(m)'\n",
      " 'Sc2l(i)' 'SBa?m' 'SBc3t(o)' 'SBa3l(r)' 'Sc4t(m)' 'Sb+m(d)' 'Sc4m(i)'\n",
      " 'SBc4m(r)' 'SBc(l)' 'SBb3m(m)' 'Sc3t(d)' 'SBc4t(r)' 'Sd' 'SBb+t(r)'\n",
      " 'SBc?t(i)' 'Sc3l(d)' 'SBa1t(i)' 'Sa2l' 'Sb1l(l)' 'SBa2m(r)' 'Sb1t(o)'\n",
      " 'SBd2l(i)' 'SBb1m(i)' 'Sd?m' 'SBb?t(i)' 'Sb+t(i)' 'SBc1m(r)' 'SBb?l(i)'\n",
      " 'SBb1l(d)' 'SBc1l(m)' 'Sd3m(i)' 'SBb1m(r)' 'SBc2t(d)' 'SBc?l' 'Sd(d)'\n",
      " 'Sa?t' 'SBc+t(i)' 'SBb4l' 'SBc?t(o)' 'SBb4m(r)' 'Sa1l(m)' 'Sa2m'\n",
      " 'SBb+t(o)' 'SBd2l' 'SBc3t(m)' 'Sb3m(i)' 'Sb1t(m)' 'Sc1m(i)' 'SBc4m(i)'\n",
      " 'SBb3l(r)' 'SBc1m(m)' 'SBb3l(d)' 'Sc+m(i)' 'SBc+l(m)' 'Sc1l' 'SBc?l(m)'\n",
      " 'SBc?m(o)' 'SBb?m(u)' 'Sa1t' 'SBb+l(i)' 'SBc3t(r)' 'Sb+t(o)' 'SBb?t(l)'\n",
      " 'Sb2m(u)' 'SBb?t(u)' 'SBb3t(o)' 'SBb4m(o)' 'Sb?t(l)' 'Sc1t(m)' 'Sb2t(l)'\n",
      " 'Sd2l' 'SBc1m(i)' 'SBb1l(m)' 'SBc4t(m)' 'SBb4t(r)' 'Sc+m(d)' 'SBb3l(i)'\n",
      " 'SBb4l(i)' 'Sc1m(r)' 'Sc3m(d)' 'SBc?l(i)' 'Sb+l(r)' 'Sb+m(r)' 'Sa?m'\n",
      " 'SBb?t(o)' 'SBd?m' 'Sb?m(u)' 'Sb3m(o)' 'Sc2t(i)' 'Sc3t(u)' 'Sb+m(i)'\n",
      " 'Sc4l(r)' 'SBc2t(i)' 'SBd2m(i)' 'Sb3t(d)' 'SBc4m(d)' 'Sd2l(i)' 'Sc3t(o)'\n",
      " 'Sb2t(o)' 'Sb?t(u)' 'Sd(u)' 'SBb?m(o)' 'SBc2m(u)' 'Sd?t(i)' 'SBc3m(d)'\n",
      " 'Sb1m(o)' 'SBb+m(i)' 'Sc3t(i)' 'Sc1l(i)' 'Sb3l(m)' 'SBd2m' 'SBb?m(i)'\n",
      " 'Sd2m' 'Sb2t(i)' 'SBb?l(u)' 'SBb?m(l)' 'Sc1l(o)' 'SBc3m(o)' 'SBb1t(m)'\n",
      " 'Sb3l(i)' 'Sc?t(l)' 'SBc?m(l)' 'Sd2t' 'SBb+m(r)' 'SBc1t(d)' 'Sc1t(i)'\n",
      " 'Sa2m(r)' 'Sa1m(o)' 'SBa2l' 'Sc+l(i)' 'Sc+l' 'Sa2t(i)' 'Sd1l(m)' 'SBd?t'\n",
      " 'SBb+t(m)' 'SBc3t(d)' 'SBa?t' 'Sc4m(o)' 'SBc+t(m)' 'SBb?t(d)' 'SBd?m(i)'\n",
      " 'SBa2t(i)' 'Sd3l(i)' 'Sb1m(l)' 'SBb1t(u)' 'Sd(r)' 'SBb3l(m)' 'Sc3m(l)'\n",
      " 'SBc2m(l)' 'SBc4l' 'SBa(m)' 'Sc1l(r)' 'SBb3t(i)' 'Sd?t(r)' 'Sb4m(i)'\n",
      " 'SBb(i)' 'SBc1t(u)' 'Sc+l(o)' 'Sd4t(i)' 'Sd4m' 'Sa3t' 'SBc1m(d)'\n",
      " 'Sc1l(l)' 'Sb4m(o)' 'SBd' 'Sa?m(o)' 'Sd?t(m)' 'SBb3m(i)' 'Sd1m'\n",
      " 'SBb3t(u)' 'SBb1l(u)' 'Sd4l' 'SBb+l' 'SBc4t(o)' 'SBb3t(d)' 'SBb4t(m)'\n",
      " 'SBc3t(i)' 'Sd?l' 'Sd?t(o)' 'SBc2t(u)' 'Sd3m' 'Sc4m(d)' 'Sd2l(m)'\n",
      " 'Sc4l(d)' 'SBb1t(d)' 'SBc4m(o)' 'SBc4l(m)' 'Sc4t(r)' 'Sb+t(m)' 'Sd1m(r)'\n",
      " 'SBd2m(d)' 'Sc3l(r)' 'SBc(d)' 'Sc4t(d)' 'SBa?l' 'SBc4l(i)' 'Sd?l(i)'\n",
      " 'Sc1l(d)' 'SBd+m(i)' 'Sa?l(i)' 'SBd2l(o)' 'SBc1t(i)' 'Sb1t(u)' 'SBb+l(r)'\n",
      " 'Sc1m(o)' 'Sb?l(u)' 'SBc4t(u)' 'Sc3l(o)' 'SBc+t(r)' 'Sb3t(i)' 'Sd2m(i)'\n",
      " 'SBd3m(i)' 'SBd2m(u)' 'SBc4t(i)' 'Sc3t(l)' 'SBc?l(o)' 'Sb4l(d)' 'Sc+m(m)'\n",
      " 'SBc?l(d)' 'SBc4l(d)' 'SBb(l)' 'SBc1t(o)' 'SBc+m(r)' 'SBc+l' 'SBd4m'\n",
      " 'SBc+m(i)' 'SBb4t(o)' 'Sb1t(l)' 'SBd?l(o)' 'Sc4m(r)' 'SBa2m(m)' 'Sd1m(i)'\n",
      " 'Sa3l(i)' 'SBd2l(d)' 'Sd2m(o)' 'SBd?l(i)' 'Sd+m(i)' 'Sd1t(d)' 'SBc1l(d)'\n",
      " 'Sd1l(i)' 'Sd?l(m)' 'SBc3l(m)' 'SBc1l(r)' 'Sc+m(r)' 'Sa?l' 'Sb4l(i)'\n",
      " 'SBd3t(d)' 'Sc1t(l)' 'Sc1m(l)' 'Sc+t(i)' 'SBa2t' 'SBd1l(i)' 'SBc?m(u)'\n",
      " 'Sb3m(l)' 'SBb2l(l)' 'Sd1t(o)' 'Sd3t' 'Sc+t(l)' 'Sb?l(l)' 'SBb+l(m)'\n",
      " 'Sa1l(i)' 'Sc?m(l)' 'Sc2m(l)' 'Sb+m(l)' 'SBd(m)' 'Sb+m(o)' 'SBc2l(u)'\n",
      " 'SBd(r)' 'Sa1l(d)' 'Sc1t(d)' 'SBd2m(m)' 'Sd1t' 'SBb3m(o)' 'SBb1m(d)'\n",
      " 'Sc1t(u)' 'SBd3l' 'Sb1l(u)' 'SBa3t' 'Sc2t(u)' 'Sa1t(o)' 'Sa2t(r)'\n",
      " 'Sc4l(i)' 'SBb+l(o)' 'Sc4l' 'Sa?m(m)' 'SBa?t(r)' 'Sa3m' 'Sa?l(r)'\n",
      " 'Sc?l(d)' 'SBd2t(i)' 'SBd1t' 'SBb+m(m)' 'SBd1m(m)' 'Sen(r)' 'SBc+t(d)'\n",
      " 'SBc4l(r)' 'SBd2t(r)' 'Sb+l(m)' 'Sd1l(r)' 'SBc3t(u)' 'SBc+m(m)' 'Sd+m'\n",
      " 'SBc3m(u)' 'Sa(l)' 'SBc3l(o)' 'SBd3m' 'SBc1l(o)' 'Sb+m(m)' 'Sd1m(m)'\n",
      " 'SBb2t(l)' 'SBb3m(u)' 'SBd(d)' 'Sd+t' 'Sd1t(i)' 'Sa2t(o)' 'Sc3l(u)'\n",
      " 'SBa(i)' 'SBa1t' 'Sd3l' 'SBc4m(m)' 'SBc1t(m)' 'SBb1t(i)' 'SBc+m(d)'\n",
      " 'Sd2m(d)' 'SBc2t(l)' 'Sd4t' 'Sa1m' 'Sb+t(l)' 'Sd4m(i)' 'Sa+t(o)'\n",
      " 'SBc?t(l)' 'SBb+t(d)' 'Sd4l(m)' 'Sd1m(d)' 'Sd(l)' 'Sd2t(r)' 'Sc4m(l)'\n",
      " 'Sd2m(r)' 'SBc1l(l)' 'Sa+t' 'SBb4l(r)' 'Sd2l(d)' 'Sc+l(r)' 'Sc2l(l)'\n",
      " 'Sa2l(d)' 'Sc4t(i)' 'Sb+l(o)' 'SBb2m(l)' 'Seb(i)' 'Sd2l(o)' 'Sc4t(l)'\n",
      " 'SBa1l' 'Sb4m(m)' 'Sc+l(m)' 'Sb+t(u)' 'SBa4m' 'SBb3m(d)' 'SBa?m(m)'\n",
      " 'SBb2m(u)' 'Sc2l(u)' 'SBb+m(o)' 'Sb4m(u)' 'SBd?t(i)' 'Sa1m(i)' 'Sa4l'\n",
      " 'Sa2m(m)' 'SBd1m(i)' 'Sd1t(m)' 'SBd4l(i)' 'Sd3t(o)' 'SBa1l(m)' 'SBb?m(d)'\n",
      " 'SBc2l(l)' 'SBc+l(d)' 'Sc1m(u)' 'SBd?l' 'SBb1m(o)' 'Sd?m(r)' 'Sd?m(o)'\n",
      " 'Sc4l(m)' 'SBc4t(d)' 'SBc3t(l)' 'Sc1l(u)' 'SBc+m(o)' 'SBc3l(d)' 'SBd1l'\n",
      " 'SBb+t(i)' 'SBd2m(o)' 'Sb3m(u)' 'SBc1m(o)' 'SBd1m' 'Sd2t(o)' 'Sd?t(d)'\n",
      " 'SBa?t(o)' 'Sa4t' 'SBb1t(l)' 'Sc3l(m)' 'Sd?m(m)' 'SBc+l(i)' 'SBa1l(u)'\n",
      " 'Sd4l(i)' 'SBc+t(o)' 'Sb1m(u)' 'Sb2t(u)' 'SBb3t(l)' 'SBb4l(d)' 'SBc4t(l)'\n",
      " 'SBc1m(u)' 'Sd1t(r)' 'SBb1t(o)' 'SBd+t' 'Sb4l(m)' 'Sd?l(d)' 'SBd3l(i)'\n",
      " 'Sc2m(u)' 'Sa?t(m)' 'SBd(o)' 'Sa3m(d)' 'Sc4t(u)' 'SBa+t(o)' 'SBd1t(i)'\n",
      " 'Sb4t(i)' 'SBd1l(o)' 'Sd3t(i)' 'Sb+l(l)' 'SBc+l(o)' 'Sa+m' 'Sa(u)' 'Sa+l'\n",
      " 'Sa3l(r)' 'Sd1l(d)' 'Sa?t(o)' 'SBd+t(r)' 'SBd3t' 'Sb4t(m)' 'SBd1l(d)'\n",
      " 'SBb1m(u)' 'SBd?t(o)' 'SBb4t(d)' 'Sb3t(u)' 'SBa+m' 'SBa2l(r)' 'SBb4t(l)'\n",
      " 'SBa1m' 'Sb4l(r)' 'SBa2t(r)' 'SBd?t(r)' 'SBb4m(i)' 'SBb1l(l)' 'Sa?t(d)'\n",
      " 'SBc3m(l)' 'SBa2l(m)' 'SBd2t(u)' 'SBa(d)' 'SBd2l(m)' 'SBb?l(l)' 'Sa2l(o)'\n",
      " 'SBa2m(i)' 'SBc4l(l)' 'SBb4l(m)' 'SBb4t(i)' 'Sd2l(r)' 'Sa(d)' 'Sa1l'\n",
      " 'SBc1m(l)' 'Sb+t(d)' 'SBa+t' 'Sa1l(r)' 'SBb2t(u)' 'SBb4t(u)' 'Sd+m(o)'\n",
      " 'SBa2t(l)' 'Sa?l(m)' 'Sa1m(d)' 'SBd4t' 'Sd+t(d)' 'SBd+m' 'Sd+m(d)'\n",
      " 'SBd?t(d)' 'Sd+l' 'SBd?m(o)' 'Sd2t(m)' 'SBd1l(m)' 'Sd1l(o)' 'Sd3m(o)']\n"
     ]
    }
   ],
   "source": [
    "spiral_catalog = galaxy_data_directory + 'spiral.fits'\n",
    "\n",
    "with fits.open(spiral_catalog) as hdul:\n",
    "    data = hdul[1].data\n",
    "    \n",
    "print('spiral data rows = ', data.shape[0])\n",
    "spiral_gz2class=np.empty(data.shape[0], dtype=np.object)\n",
    "    \n",
    "for i in range(data.shape[0]):    \n",
    "    spiral_gz2class[i]=data.field('gz2_class')[i]\n",
    "\n",
    "unique_spiral_gz2class = pd.unique(spiral_gz2class)\n",
    "print('unique_spiral_gz2class = ', unique_spiral_gz2class.shape[0])\n",
    "print(unique_spiral_gz2class)"
   ]
  },
  {
   "cell_type": "code",
   "execution_count": null,
   "metadata": {},
   "outputs": [],
   "source": []
  }
 ],
 "metadata": {
  "kernelspec": {
   "display_name": "Python 3",
   "language": "python",
   "name": "python3"
  },
  "language_info": {
   "codemirror_mode": {
    "name": "ipython",
    "version": 3
   },
   "file_extension": ".py",
   "mimetype": "text/x-python",
   "name": "python",
   "nbconvert_exporter": "python",
   "pygments_lexer": "ipython3",
   "version": "3.6.5"
  }
 },
 "nbformat": 4,
 "nbformat_minor": 2
}
