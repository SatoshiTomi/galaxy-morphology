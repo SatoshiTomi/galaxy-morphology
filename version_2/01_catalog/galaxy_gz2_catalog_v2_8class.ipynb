{
 "cells": [
  {
   "cell_type": "markdown",
   "metadata": {},
   "source": [
    "## Galaxy morphologyカタログ（Hubble系列8クラス）"
   ]
  },
  {
   "cell_type": "code",
   "execution_count": 1,
   "metadata": {},
   "outputs": [],
   "source": [
    "import os, shutil\n",
    "import sys, time\n",
    "import numpy as np\n",
    "import pandas as pd\n",
    "from astropy.io import fits\n",
    "\n",
    "# 作業用ディレクトリ定義（要カスタマイズ）\n",
    "galaxy_data_directory = '/home/satoshi/Galaxy/'\n",
    "\n",
    "# Galaxy Zoo 2カタログ\n",
    "#http://gz2hart.s3.amazonaws.com/gz2_hart16.fits.gzからダウンロード&解凍し、galaxy_data_directory配下にコピー\n",
    "gz2_catalog = galaxy_data_directory  + 'gz2_hart16.fits'\n",
    "\n",
    "# Galaxy Zoo 2メタデータ\n",
    "# http://zooniverse-data.s3.amazonaws.com/galaxy-zoo-2/gz2sample.fits.gzからダウンロード&解凍し、galaxy_data_directory配下にコピー\n",
    "gz2_metadata = galaxy_data_directory + 'gz2sample.fits'\n",
    "\n",
    "# ワーク用カタログ\n",
    "gz2_catalog_work = galaxy_data_directory + 'gz2_catalog_work.fits'\n",
    "if os.path.exists(gz2_catalog_work):\n",
    "    os.remove(gz2_catalog_work)\n",
    "\n",
    "# 新カテゴリカタログ\n",
    "gz2_catalog_v2 = galaxy_data_directory + 'gz2_catalog_hubble_8class.fits'\n"
   ]
  },
  {
   "cell_type": "markdown",
   "metadata": {},
   "source": [
    "#### 'Galaxy Zoo 2'オリジナルのカタログにメタデータ用の空列を追加したワークカタログを作成する"
   ]
  },
  {
   "cell_type": "code",
   "execution_count": 2,
   "metadata": {},
   "outputs": [
    {
     "name": "stdout",
     "output_type": "stream",
     "text": [
      "239695\n"
     ]
    }
   ],
   "source": [
    "with fits.open(gz2_catalog) as hdul:\n",
    "    data = hdul[1].data\n",
    "    print(len(data))\n",
    "    orig_cols = data.columns\n",
    "    add_cols = fits.ColDefs([\n",
    "        fits.Column(name = 'HUBBLE_CLASS', format = '8A',\n",
    "                    array = np.empty(len(data))),\n",
    "        fits.Column(name = 'PETROR90_R', format = 'E', \n",
    "                   array = np.empty(len(data))), \n",
    "        fits.Column(name = 'PETROR50_R_KPC_SIMPLE_BIN', format = 'I',\n",
    "                   array = np.empty(len(data))),\n",
    "        fits.Column(name = 'PETROMAG_MR_SIMPLE_BIN', format = 'I',\n",
    "                   array = np.empty(len(data))),\n",
    "        fits.Column(name = 'REDSHIFT_SIMPLE_BIN', format = 'I',\n",
    "                   array = np.empty(len(data))),\n",
    "        fits.Column(name = 'FILE_NAME', format = '64A',\n",
    "                    array = np.empty(len(data)))\n",
    "    ])\n",
    "    hdul = fits.BinTableHDU.from_columns(orig_cols + add_cols)\n",
    "    hdul.writeto(gz2_catalog_work) \n",
    "    "
   ]
  },
  {
   "cell_type": "markdown",
   "metadata": {},
   "source": [
    "#### 'Galaxy Zoo 2'メタデータを読み込む"
   ]
  },
  {
   "cell_type": "code",
   "execution_count": 3,
   "metadata": {},
   "outputs": [
    {
     "name": "stdout",
     "output_type": "stream",
     "text": [
      "325704\n"
     ]
    }
   ],
   "source": [
    "with fits.open(gz2_metadata) as hdul:\n",
    "    data = hdul[1].data\n",
    "    print(len(data))\n",
    "    redshift_bin = np.array(data.field('REDSHIFT_SIMPLE_BIN'))\n",
    "    obj_id = np.array(data.field('OBJID'))\n",
    "    petroR90_r = np.array(data.field('PETROR90_R'))\n",
    "    mgr_bin = np.array(data.field('PETROMAG_MR_SIMPLE_BIN'))\n",
    "    petroR50_bin= np.array(data.field('PETROR50_R_KPC_SIMPLE_BIN'))\n",
    "    \n",
    "    redshift_bin_series = pd.Series(redshift_bin, index= obj_id)\n",
    "    petroR90_r_series = pd.Series(petroR90_r, index =  obj_id)\n",
    "    mgr_bin_series = pd.Series(mgr_bin, index =  obj_id)\n",
    "    petroR50_bin_series = pd.Series(petroR50_bin, index =  obj_id)\n",
    "       "
   ]
  },
  {
   "cell_type": "markdown",
   "metadata": {},
   "source": [
    "#### オリジナルカタログのクラス分類をHubble系列8クラスに集約し、メタデータを追加して、新カタログを作成する"
   ]
  },
  {
   "cell_type": "code",
   "execution_count": 4,
   "metadata": {},
   "outputs": [
    {
     "name": "stdout",
     "output_type": "stream",
     "text": [
      "/home/satoshi/Galaxy/gz2_catalog_hubble_8class.fits   completed\n"
     ]
    }
   ],
   "source": [
    "with fits.open(gz2_catalog_work) as hdul:\n",
    "    data = hdul[1].data\n",
    "    for i in range(len(data)):    \n",
    "        # Er, Ei, Ec\n",
    "        if data.field('gz2_class')[i][:1] == 'E':\n",
    "            if data.field('gz2_class')[i][:2] == 'Er':\n",
    "                # Er => E0\n",
    "                data.field('HUBBLE_CLASS')[i] = 'E0'\n",
    "            elif data.field('gz2_class')[i][:2] == 'Ei':\n",
    "                # Ei => E3\n",
    "                data.field('HUBBLE_CLASS')[i] = 'E3'\n",
    "            else:\n",
    "                # Ec => E7 \n",
    "                data.field('HUBBLE_CLASS')[i] = 'E7'\n",
    "        # Ser, Seb, Sen => Edgeonへ統合 \n",
    "        elif data.field('gz2_class')[i][:3] == 'Ser' or data.field('gz2_class')[i][:3] == 'Seb' \\\n",
    "                                                                            or data.field('gz2_class')[i][:3] == 'Sen':\n",
    "            data.field('HUBBLE_CLASS')[i] = 'Edgeon'\n",
    "                \n",
    "       \n",
    "        # SBd, SBc, SBb, SBa\n",
    "        elif data.field('gz2_class')[i][:3] == 'SBd' or data.field('gz2_class')[i][:3] == 'SBc' \\\n",
    "                                                                            or data.field('gz2_class')[i][:3] == 'SBb' \\\n",
    "                                                                            or data.field('gz2_class')[i][:3] == 'SBa':\n",
    "            # spiralがあるか？ => SBabc\n",
    "            if 't' in data.field('gz2_class')[i] or 'm' in data.field('gz2_class')[i] or  'l' in data.field('gz2_class')[i]:\n",
    "            # SBd, SBc, SBb, SBa => SBa\n",
    "                data.field('HUBBLE_CLASS')[i] = 'SBabc'\n",
    "            # spiralなし => SB0\n",
    "            else:\n",
    "                # SBd, SBc, SBb, SBa => SB0\n",
    "                data.field('HUBBLE_CLASS')[i] = 'SB0'\n",
    "                \n",
    "        # Sd, Sc, Sb, Sa \n",
    "        elif data.field('gz2_class')[i][:2] == 'Sd' or data.field('gz2_class')[i][:2] == 'Sc' \\\n",
    "                                                                                  or data.field('gz2_class')[i][:2] == 'Sb' \\\n",
    "                                                                                  or data.field('gz2_class')[i][:2] == 'Sa':\n",
    "            \n",
    "            # spiralがあるか？ => SAabc\n",
    "            if 't' in data.field('gz2_class')[i] or 'm' in data.field('gz2_class')[i] or  'l' in data.field('gz2_class')[i]:\n",
    "            # Sd, Sc, Sb, Sa => Sabc\n",
    "                data.field('HUBBLE_CLASS')[i] = 'Sabc'\n",
    "            # spiralなし => SA0\n",
    "            else:\n",
    "                # Sd, Sc, Sb, Sa => S0\n",
    "                data.field('HUBBLE_CLASS')[i] = 'S0'\n",
    "            \n",
    "        # not galaxy\n",
    "        elif data.field('gz2_class')[i][:1] == 'A':\n",
    "            pass\n",
    "        else:\n",
    "            print('undefined category', i, data.field('gz2_class')[i])\n",
    "\n",
    "        # メタデータ項目を取り込む\n",
    "        data.field('PETROR90_R')[i] =  petroR90_r_series[data.field('dr7objid')[i]]\n",
    "        data.field('PETROR50_R_KPC_SIMPLE_BIN')[i] =  petroR50_bin_series[data.field('dr7objid')[i]]\n",
    "        data.field('PETROMAG_MR_SIMPLE_BIN')[i] =  mgr_bin_series[data.field('dr7objid')[i]]\n",
    "        data.field('REDSHIFT_SIMPLE_BIN')[i] =  redshift_bin_series[data.field('dr7objid')[i]]\n",
    "        \n",
    "        # ファイル名セット\n",
    "        fname = data.field('HUBBLE_CLASS')[i] + '_' + str(data.field('REDSHIFT_SIMPLE_BIN')[i]) + '_' \\\n",
    "                                                                                   + str(int(data.field('PETROR90_R')[i])) + '_' \\\n",
    "                                                                                   + str(data.field('PETROMAG_MR_SIMPLE_BIN')[i]) + '_' \\\n",
    "                                                                                   + str(data.field('dr7objid')[i]) + '.jpeg'\n",
    "        data.field('FILE_NAME')[i] = fname\n",
    "        \n",
    "    # not galaxyのrowを削除\n",
    "    mask= data.field('gz2_class') != 'A'\n",
    "    # クラス名を集約したカタログを作成\n",
    "    newdata=data[mask]\n",
    "    hdul=fits.BinTableHDU(data=newdata)\n",
    "    hdul.writeto(gz2_catalog_v2) \n",
    "\n",
    "print(gz2_catalog_v2, '  completed')\n",
    "    "
   ]
  },
  {
   "cell_type": "markdown",
   "metadata": {},
   "source": [
    "#### クラス構成の確認"
   ]
  },
  {
   "cell_type": "code",
   "execution_count": 5,
   "metadata": {},
   "outputs": [
    {
     "name": "stdout",
     "output_type": "stream",
     "text": [
      "category_catalog rows =  239100\n",
      "['E0', 'E3', 'E7', 'Edgeon', 'S0', 'SB0', 'SBabc', 'Sabc']    8\n",
      "E0   total   40015    16 %\n",
      "E3   total   47166    19 %\n",
      "E7   total   10489    4 %\n",
      "Edgeon   total   19606    8 %\n",
      "S0   total   18209    7 %\n",
      "SB0   total   5023    2 %\n",
      "SBabc   total   40558    16 %\n",
      "Sabc   total   58034    24 %\n"
     ]
    }
   ],
   "source": [
    "with fits.open(gz2_catalog_v2) as hdul:\n",
    "    data = hdul[1].data\n",
    "    \n",
    "    print('category_catalog rows = ', data.shape[0])\n",
    "    galaxy_class=np.array(data.field('HUBBLE_CLASS'))\n",
    "    \n",
    "    galaxy_series=pd.Series(galaxy_class)\n",
    "    unique_galaxy_class = sorted(galaxy_series.unique()) \n",
    "    print(unique_galaxy_class, '  ', len(unique_galaxy_class))\n",
    "    \n",
    "    for class_name in unique_galaxy_class:\n",
    "        galaxy_list_series=pd.Series(np.array([i for i in range(len(data)) if galaxy_class[i] == class_name]))\n",
    "        class_ratio = len(galaxy_list_series) / data.shape[0] * 100\n",
    "        print(class_name, '  total  ', len(galaxy_list_series), '  ', int(class_ratio), '%')\n",
    "           "
   ]
  },
  {
   "cell_type": "code",
   "execution_count": null,
   "metadata": {},
   "outputs": [],
   "source": []
  }
 ],
 "metadata": {
  "kernelspec": {
   "display_name": "Python 3",
   "language": "python",
   "name": "python3"
  },
  "language_info": {
   "codemirror_mode": {
    "name": "ipython",
    "version": 3
   },
   "file_extension": ".py",
   "mimetype": "text/x-python",
   "name": "python",
   "nbconvert_exporter": "python",
   "pygments_lexer": "ipython3",
   "version": "3.6.6"
  }
 },
 "nbformat": 4,
 "nbformat_minor": 2
}
