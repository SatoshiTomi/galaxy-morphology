{
 "cells": [
  {
   "cell_type": "markdown",
   "metadata": {},
   "source": [
    "## ImageDataGenerator用データセットアップ(訓練用400+検証用400+テスト用400=1200件)"
   ]
  },
  {
   "cell_type": "code",
   "execution_count": 1,
   "metadata": {},
   "outputs": [
    {
     "name": "stdout",
     "output_type": "stream",
     "text": [
      "/home/satoshi/Galaxy/train\n",
      "/home/satoshi/Galaxy/validation\n",
      "/home/satoshi/Galaxy/test\n"
     ]
    }
   ],
   "source": [
    "import os, shutil\n",
    "import sys, time\n",
    "import numpy as np\n",
    "import pandas as pd\n",
    "from astropy.io import fits\n",
    "import urllib.request, urllib.parse\n",
    "from bs4 import BeautifulSoup\n",
    "import pickle\n",
    "from datetime import datetime\n",
    "\n",
    "# 作業用ディレクトリ定義（要カスタマイズ）\n",
    "galaxy_data_directory = '/home/satoshi/Galaxy/'\n",
    "\n",
    "# 新カテゴリカタログ\n",
    "gz2_catalog_v2 = galaxy_data_directory + 'gz2_catalog_12class.fits'\n",
    "\n",
    "# サンプルデータセットベースディレクトリ\n",
    "sample_directory_base = galaxy_data_directory + 'dataset_12class_limited_256_01'\n",
    "\n",
    "# ImageDataGenerator用訓練データディレクトリ\n",
    "train_generator_directory = galaxy_data_directory + 'train'\n",
    "print(train_generator_directory)\n",
    "os.mkdir(train_generator_directory)\n",
    "\n",
    "# ImageDataGenerator用検証データディレクトリ\n",
    "validation_generator_directory = galaxy_data_directory + 'validation'\n",
    "print(validation_generator_directory)\n",
    "os.mkdir(validation_generator_directory)\n",
    "\n",
    "# ImageDataGenerator用テストデータディレクトリ\n",
    "test_generator_directory = galaxy_data_directory + 'test'\n",
    "print(test_generator_directory)\n",
    "os.mkdir(test_generator_directory)\n"
   ]
  },
  {
   "cell_type": "markdown",
   "metadata": {},
   "source": [
    "#### それぞれのカテゴリについて、訓練データ400件、検証データ400件、テストデータ400件のデータセットを構成する"
   ]
  },
  {
   "cell_type": "code",
   "execution_count": 2,
   "metadata": {},
   "outputs": [
    {
     "name": "stdout",
     "output_type": "stream",
     "text": [
      "category_directory:  12    ['Sc', 'Edgeon', 'E0', 'Sb', 'S0', 'SBa', 'SB0', 'Sa', 'E3', 'SBb', 'E7', 'SBc']\n",
      "Sc    1208\n",
      "train_data_fnames   400\n",
      "validation_data_fnames   400\n",
      "test_data_fnames   400\n",
      "Edgeon    6921\n",
      "train_data_fnames   400\n",
      "validation_data_fnames   400\n",
      "test_data_fnames   400\n",
      "E0    11678\n",
      "train_data_fnames   400\n",
      "validation_data_fnames   400\n",
      "test_data_fnames   400\n",
      "Sb    6194\n",
      "train_data_fnames   400\n",
      "validation_data_fnames   400\n",
      "test_data_fnames   400\n",
      "S0    4532\n",
      "train_data_fnames   400\n",
      "validation_data_fnames   400\n",
      "test_data_fnames   400\n",
      "SBa    7377\n",
      "train_data_fnames   400\n",
      "validation_data_fnames   400\n",
      "test_data_fnames   400\n",
      "SB0    1434\n",
      "train_data_fnames   400\n",
      "validation_data_fnames   400\n",
      "test_data_fnames   400\n",
      "Sa    13633\n",
      "train_data_fnames   400\n",
      "validation_data_fnames   400\n",
      "test_data_fnames   400\n",
      "E3    13986\n",
      "train_data_fnames   400\n",
      "validation_data_fnames   400\n",
      "test_data_fnames   400\n",
      "SBb    7165\n",
      "train_data_fnames   400\n",
      "validation_data_fnames   400\n",
      "test_data_fnames   400\n",
      "E7    1873\n",
      "train_data_fnames   400\n",
      "validation_data_fnames   400\n",
      "test_data_fnames   400\n",
      "SBc    1873\n",
      "train_data_fnames   400\n",
      "validation_data_fnames   400\n",
      "test_data_fnames   400\n"
     ]
    }
   ],
   "source": [
    "# データセットに含まれるカテゴリ（クラス）ディレクトリの種類\n",
    "category_directory = os.listdir(sample_directory_base)\n",
    "print('category_directory: ', len(category_directory), '  ', category_directory)\n",
    "\n",
    "# データセットに含まれるすべてのカテゴリについて\n",
    "for category in category_directory:\n",
    "    # カテゴリに含まれるgalaxyデータのファイル名を取得\n",
    "    galaxy_fnames = np.array(os.listdir(sample_directory_base + '/' + category))\n",
    "    print(category, '  ', len(galaxy_fnames))\n",
    "    # カテゴリに含まれるgalaxyデータから、訓練、検証、テスト用に使用するデータ1200(400+400+400)件をランダムに選択する\n",
    "    galaxy_list= [i for i in range(len(galaxy_fnames))]\n",
    "    selected_indexes = pd.Series(galaxy_list).sample(n = 1200).values\n",
    "   \n",
    "    # 訓練データセット(400件/カテゴリ)の作成　全カテゴリでは400 x 12= 4800件\n",
    "    train_data_fnames = galaxy_fnames[selected_indexes[0:400]]\n",
    "    print('train_data_fnames  ', len(train_data_fnames))\n",
    "    train_generator_category_directory = train_generator_directory + '/' + category\n",
    "    os.mkdir(train_generator_category_directory)\n",
    "    for train_data_fname in train_data_fnames:\n",
    "        src = os.path.join(sample_directory_base + '/' + category, train_data_fname)\n",
    "        dst = os.path.join(train_generator_category_directory, train_data_fname)\n",
    "        shutil.copyfile(src, dst)\n",
    "            \n",
    "    # 検証データセット(400件/カテゴリ)の作成\n",
    "    validation_data_fnames = galaxy_fnames[selected_indexes[400:800]]\n",
    "    print('validation_data_fnames  ', len(validation_data_fnames))\n",
    "    validation_generator_category_directory = validation_generator_directory + '/' + category\n",
    "    os.mkdir(validation_generator_category_directory)\n",
    "    for validation_data_fname in validation_data_fnames:\n",
    "        src = os.path.join(sample_directory_base + '/' + category, validation_data_fname)\n",
    "        dst = os.path.join(validation_generator_category_directory, validation_data_fname)\n",
    "        shutil.copyfile(src, dst)\n",
    "            \n",
    "    # テストデータセット(400件/カテゴリ)の作成\n",
    "    test_data_fnames = galaxy_fnames[selected_indexes[800:1200]]\n",
    "    print('test_data_fnames  ', len(test_data_fnames))\n",
    "    test_generator_category_directory = test_generator_directory + '/' + category\n",
    "    os.mkdir(test_generator_category_directory)\n",
    "    for test_data_fname in test_data_fnames:\n",
    "        src = os.path.join(sample_directory_base + '/' + category, test_data_fname)\n",
    "        dst = os.path.join(test_generator_category_directory, test_data_fname)\n",
    "        shutil.copyfile(src, dst)\n",
    "    "
   ]
  },
  {
   "cell_type": "markdown",
   "metadata": {},
   "source": [
    "#### カテゴリ別訓練、検証、テストデータ件数"
   ]
  },
  {
   "cell_type": "code",
   "execution_count": 3,
   "metadata": {},
   "outputs": [
    {
     "name": "stdout",
     "output_type": "stream",
     "text": [
      "/home/satoshi/Galaxy/train\n",
      "Sc    400\n",
      "Edgeon    400\n",
      "E0    400\n",
      "Sb    400\n",
      "S0    400\n",
      "SBa    400\n",
      "SB0    400\n",
      "Sa    400\n",
      "E3    400\n",
      "SBb    400\n",
      "E7    400\n",
      "SBc    400\n",
      "/home/satoshi/Galaxy/validation\n",
      "Sc    400\n",
      "Edgeon    400\n",
      "E0    400\n",
      "Sb    400\n",
      "S0    400\n",
      "SBa    400\n",
      "SB0    400\n",
      "Sa    400\n",
      "E3    400\n",
      "SBb    400\n",
      "E7    400\n",
      "SBc    400\n",
      "/home/satoshi/Galaxy/test\n",
      "Sc    400\n",
      "Edgeon    400\n",
      "E0    400\n",
      "Sb    400\n",
      "S0    400\n",
      "SBa    400\n",
      "SB0    400\n",
      "Sa    400\n",
      "E3    400\n",
      "SBb    400\n",
      "E7    400\n",
      "SBc    400\n"
     ]
    }
   ],
   "source": [
    "generator_directory = [train_generator_directory, validation_generator_directory, test_generator_directory]\n",
    "for directory in generator_directory:\n",
    "    print(directory)\n",
    "    for category in category_directory:\n",
    "        data_counts = len(os.listdir(directory + '/' + category))\n",
    "        print(category, '  ', data_counts)\n"
   ]
  },
  {
   "cell_type": "code",
   "execution_count": null,
   "metadata": {},
   "outputs": [],
   "source": []
  }
 ],
 "metadata": {
  "kernelspec": {
   "display_name": "Python 3",
   "language": "python",
   "name": "python3"
  },
  "language_info": {
   "codemirror_mode": {
    "name": "ipython",
    "version": 3
   },
   "file_extension": ".py",
   "mimetype": "text/x-python",
   "name": "python",
   "nbconvert_exporter": "python",
   "pygments_lexer": "ipython3",
   "version": "3.6.6"
  }
 },
 "nbformat": 4,
 "nbformat_minor": 2
}
