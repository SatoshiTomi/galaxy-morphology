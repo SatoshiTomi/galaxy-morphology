{
 "cells": [
  {
   "cell_type": "markdown",
   "metadata": {},
   "source": [
    "## ImageDataGenerator用データセットアップ(訓練用2000+検証用1000+テスト用1000=4000件)"
   ]
  },
  {
   "cell_type": "code",
   "execution_count": 1,
   "metadata": {},
   "outputs": [
    {
     "name": "stdout",
     "output_type": "stream",
     "text": [
      "/home/satoshi/Galaxy/train\n",
      "/home/satoshi/Galaxy/validation\n",
      "/home/satoshi/Galaxy/test\n"
     ]
    }
   ],
   "source": [
    "import os, shutil\n",
    "import sys, time\n",
    "import numpy as np\n",
    "import pandas as pd\n",
    "from astropy.io import fits\n",
    "import urllib.request, urllib.parse\n",
    "from bs4 import BeautifulSoup\n",
    "import pickle\n",
    "from datetime import datetime\n",
    "\n",
    "# 作業用ディレクトリ定義（要カスタマイズ）\n",
    "galaxy_data_directory = '/home/satoshi/Galaxy/'\n",
    "\n",
    "# 新カテゴリカタログ\n",
    "gz2_catalog_v2 = galaxy_data_directory + 'gz2_catalog_12class.fits'\n",
    "\n",
    "# サンプルデータセットベースディレクトリ\n",
    "sample_directory_base = galaxy_data_directory + 'dataset_12class_selected_256_01_4000'\n",
    "\n",
    "# ImageDataGenerator用訓練データディレクトリ\n",
    "train_generator_directory = galaxy_data_directory + 'train'\n",
    "print(train_generator_directory)\n",
    "os.mkdir(train_generator_directory)\n",
    "\n",
    "# ImageDataGenerator用検証データディレクトリ\n",
    "validation_generator_directory = galaxy_data_directory + 'validation'\n",
    "print(validation_generator_directory)\n",
    "os.mkdir(validation_generator_directory)\n",
    "\n",
    "# ImageDataGenerator用テストデータディレクトリ\n",
    "test_generator_directory = galaxy_data_directory + 'test'\n",
    "print(test_generator_directory)\n",
    "os.mkdir(test_generator_directory)\n"
   ]
  },
  {
   "cell_type": "markdown",
   "metadata": {},
   "source": [
    "#### それぞれのカテゴリについて、訓練データ2000件、検証データ1000件、テストデータ1000件のデータセットを構成する"
   ]
  },
  {
   "cell_type": "code",
   "execution_count": 2,
   "metadata": {},
   "outputs": [
    {
     "name": "stdout",
     "output_type": "stream",
     "text": [
      "category_directory:  12    ['Sc', 'Edgeon', 'E0', 'Sb', 'S0', 'SBa', 'SB0', 'Sa', 'E3', 'SBb', 'E7', 'SBc']\n",
      "Sc    4000\n",
      "train_data_fnames   2000\n",
      "validation_data_fnames   1000\n",
      "test_data_fnames   1000\n",
      "Edgeon    4000\n",
      "train_data_fnames   2000\n",
      "validation_data_fnames   1000\n",
      "test_data_fnames   1000\n",
      "E0    4000\n",
      "train_data_fnames   2000\n",
      "validation_data_fnames   1000\n",
      "test_data_fnames   1000\n",
      "Sb    4000\n",
      "train_data_fnames   2000\n",
      "validation_data_fnames   1000\n",
      "test_data_fnames   1000\n",
      "S0    4000\n",
      "train_data_fnames   2000\n",
      "validation_data_fnames   1000\n",
      "test_data_fnames   1000\n",
      "SBa    4000\n",
      "train_data_fnames   2000\n",
      "validation_data_fnames   1000\n",
      "test_data_fnames   1000\n",
      "SB0    4000\n",
      "train_data_fnames   2000\n",
      "validation_data_fnames   1000\n",
      "test_data_fnames   1000\n",
      "Sa    4000\n",
      "train_data_fnames   2000\n",
      "validation_data_fnames   1000\n",
      "test_data_fnames   1000\n",
      "E3    4000\n",
      "train_data_fnames   2000\n",
      "validation_data_fnames   1000\n",
      "test_data_fnames   1000\n",
      "SBb    4000\n",
      "train_data_fnames   2000\n",
      "validation_data_fnames   1000\n",
      "test_data_fnames   1000\n",
      "E7    4000\n",
      "train_data_fnames   2000\n",
      "validation_data_fnames   1000\n",
      "test_data_fnames   1000\n",
      "SBc    4000\n",
      "train_data_fnames   2000\n",
      "validation_data_fnames   1000\n",
      "test_data_fnames   1000\n"
     ]
    }
   ],
   "source": [
    "# データセットに含まれるカテゴリ（クラス）ディレクトリの種類\n",
    "category_directory = os.listdir(sample_directory_base)\n",
    "print('category_directory: ', len(category_directory), '  ', category_directory)\n",
    "\n",
    "# データセットに含まれるすべてのカテゴリについて\n",
    "for category in category_directory:\n",
    "    # カテゴリに含まれるgalaxyデータのファイル名を取得\n",
    "    galaxy_fnames = np.array(os.listdir(sample_directory_base + '/' + category))\n",
    "    print(category, '  ', len(galaxy_fnames))\n",
    "    # カテゴリに含まれるgalaxyデータから、訓練、検証、テスト用に使用するデータ4000(2000+1000+1000)件をランダムに選択する\n",
    "    galaxy_list= [i for i in range(len(galaxy_fnames))]\n",
    "    selected_indexes = pd.Series(galaxy_list).sample(n = 4000).values\n",
    "   \n",
    "    # 訓練データセット(2000件/カテゴリ)の作成　全カテゴリでは2000 x 12= 24000件\n",
    "    train_data_fnames = galaxy_fnames[selected_indexes[0:2000]]\n",
    "    print('train_data_fnames  ', len(train_data_fnames))\n",
    "    train_generator_category_directory = train_generator_directory + '/' + category\n",
    "    os.mkdir(train_generator_category_directory)\n",
    "    for train_data_fname in train_data_fnames:\n",
    "        src = os.path.join(sample_directory_base + '/' + category, train_data_fname)\n",
    "        dst = os.path.join(train_generator_category_directory, train_data_fname)\n",
    "        shutil.copyfile(src, dst)\n",
    "            \n",
    "    # 検証データセット(1000件/カテゴリ)の作成\n",
    "    validation_data_fnames = galaxy_fnames[selected_indexes[2000:3000]]\n",
    "    print('validation_data_fnames  ', len(validation_data_fnames))\n",
    "    validation_generator_category_directory = validation_generator_directory + '/' + category\n",
    "    os.mkdir(validation_generator_category_directory)\n",
    "    for validation_data_fname in validation_data_fnames:\n",
    "        src = os.path.join(sample_directory_base + '/' + category, validation_data_fname)\n",
    "        dst = os.path.join(validation_generator_category_directory, validation_data_fname)\n",
    "        shutil.copyfile(src, dst)\n",
    "            \n",
    "    # テストデータセット(1000件/カテゴリ)の作成\n",
    "    test_data_fnames = galaxy_fnames[selected_indexes[3000:4000]]\n",
    "    print('test_data_fnames  ', len(test_data_fnames))\n",
    "    test_generator_category_directory = test_generator_directory + '/' + category\n",
    "    os.mkdir(test_generator_category_directory)\n",
    "    for test_data_fname in test_data_fnames:\n",
    "        src = os.path.join(sample_directory_base + '/' + category, test_data_fname)\n",
    "        dst = os.path.join(test_generator_category_directory, test_data_fname)\n",
    "        shutil.copyfile(src, dst)\n",
    "    "
   ]
  },
  {
   "cell_type": "markdown",
   "metadata": {},
   "source": [
    "#### カテゴリ別訓練、検証、テストデータ件数"
   ]
  },
  {
   "cell_type": "code",
   "execution_count": 3,
   "metadata": {},
   "outputs": [
    {
     "name": "stdout",
     "output_type": "stream",
     "text": [
      "/home/satoshi/Galaxy/train\n",
      "Sc    2000\n",
      "Edgeon    2000\n",
      "E0    2000\n",
      "Sb    2000\n",
      "S0    2000\n",
      "SBa    2000\n",
      "SB0    2000\n",
      "Sa    2000\n",
      "E3    2000\n",
      "SBb    2000\n",
      "E7    2000\n",
      "SBc    2000\n",
      "/home/satoshi/Galaxy/validation\n",
      "Sc    1000\n",
      "Edgeon    1000\n",
      "E0    1000\n",
      "Sb    1000\n",
      "S0    1000\n",
      "SBa    1000\n",
      "SB0    1000\n",
      "Sa    1000\n",
      "E3    1000\n",
      "SBb    1000\n",
      "E7    1000\n",
      "SBc    1000\n",
      "/home/satoshi/Galaxy/test\n",
      "Sc    1000\n",
      "Edgeon    1000\n",
      "E0    1000\n",
      "Sb    1000\n",
      "S0    1000\n",
      "SBa    1000\n",
      "SB0    1000\n",
      "Sa    1000\n",
      "E3    1000\n",
      "SBb    1000\n",
      "E7    1000\n",
      "SBc    1000\n"
     ]
    }
   ],
   "source": [
    "generator_directory = [train_generator_directory, validation_generator_directory, test_generator_directory]\n",
    "for directory in generator_directory:\n",
    "    print(directory)\n",
    "    for category in category_directory:\n",
    "        data_counts = len(os.listdir(directory + '/' + category))\n",
    "        print(category, '  ', data_counts)\n"
   ]
  },
  {
   "cell_type": "code",
   "execution_count": null,
   "metadata": {},
   "outputs": [],
   "source": []
  }
 ],
 "metadata": {
  "kernelspec": {
   "display_name": "Python 3",
   "language": "python",
   "name": "python3"
  },
  "language_info": {
   "codemirror_mode": {
    "name": "ipython",
    "version": 3
   },
   "file_extension": ".py",
   "mimetype": "text/x-python",
   "name": "python",
   "nbconvert_exporter": "python",
   "pygments_lexer": "ipython3",
   "version": "3.6.6"
  }
 },
 "nbformat": 4,
 "nbformat_minor": 2
}
