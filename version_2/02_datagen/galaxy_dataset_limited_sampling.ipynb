{
 "cells": [
  {
   "cell_type": "markdown",
   "metadata": {},
   "source": [
    "##  GZ2フルデータセットからML対象データセットを作成（赤方偏移&光度制限データセット）"
   ]
  },
  {
   "cell_type": "code",
   "execution_count": 1,
   "metadata": {},
   "outputs": [],
   "source": [
    "import os, shutil\n",
    "import sys, time\n",
    "import numpy as np\n",
    "import pandas as pd\n",
    "from astropy.io import fits\n",
    "import urllib.request, urllib.parse\n",
    "from bs4 import BeautifulSoup\n",
    "import pickle\n",
    "from datetime import datetime\n",
    "\n",
    "# 作業用ディレクトリ定義（要カスタマイズ）\n",
    "galaxy_data_directory = '/home/satoshi/Galaxy/'\n",
    "\n",
    "# 新カテゴリカタログ\n",
    "gz2_catalog_v2 = galaxy_data_directory + 'gz2_catalog_hubble_12class.fits'\n",
    "\n",
    "\n",
    "# データセットベースディレクトリ\n",
    "dataset_directory_base = galaxy_data_directory + 'dataset_12class_full_256_01'\n",
    "\n",
    "# 制約条件：以下の設定は [Hart et al. (2016)] http://mnras.oxfordjournals.org/content/461/4/3663 による\n",
    "# Redshift_bin制限 redshift: 0.03 ~ 0.085\n",
    "min_redshift=2\n",
    "max_redshift=7\n",
    "# Mr_bin制限 Mr : -21(Mr_bin=60) ~  -24(Mr_bin=0)\n",
    "max_mr=60\n",
    "\n",
    "sample_directory_base = galaxy_data_directory +  'dataset_12class_limited_256_01'\n",
    "os.mkdir(sample_directory_base)\n"
   ]
  },
  {
   "cell_type": "code",
   "execution_count": 2,
   "metadata": {},
   "outputs": [
    {
     "name": "stdout",
     "output_type": "stream",
     "text": [
      "['E0', 'E3', 'E7', 'Edgeon', 'S0', 'SB0', 'SBa', 'SBb', 'SBc', 'Sa', 'Sb', 'Sc']\n",
      "12  class   239100\n"
     ]
    }
   ],
   "source": [
    "with fits.open(gz2_catalog_v2) as hdul:\n",
    "    data = hdul[1].data\n",
    "    \n",
    "    dr7objid = np.array(data.field('dr7objid'))\n",
    "    redshift_bin = np.array(data.field('REDSHIFT_SIMPLE_BIN'))\n",
    "    mr_bin  = np.array(data.field('PETROMAG_MR_SIMPLE_BIN'))\n",
    "    fname = np.array(data.field('FILE_NAME'))    \n",
    "    \n",
    "    galaxy_class = np.array(data.field('HUBBLE_CLASS'))\n",
    "    galaxy_class_series=pd.Series(galaxy_class, index = dr7objid)\n",
    "    unique_galaxy_class = sorted(galaxy_class_series.unique()) \n",
    "    print(unique_galaxy_class)\n",
    "    print(len(unique_galaxy_class), ' class  ',data.shape[0] )\n",
    "    "
   ]
  },
  {
   "cell_type": "markdown",
   "metadata": {},
   "source": [
    "#### Redshift, Mrについての制約条件を満たすデータをすべてサンプリングする"
   ]
  },
  {
   "cell_type": "code",
   "execution_count": 3,
   "metadata": {},
   "outputs": [
    {
     "name": "stdout",
     "output_type": "stream",
     "text": [
      "77874   selected\n",
      "E0    11678      14 %\n",
      "E3    13986      17 %\n",
      "E7    1873      2 %\n",
      "Edgeon    6921      8 %\n",
      "S0    4532      5 %\n",
      "SB0    1434      1 %\n",
      "SBa    7377      9 %\n",
      "SBb    7165      9 %\n",
      "SBc    1873      2 %\n",
      "Sa    13633      17 %\n",
      "Sb    6194      7 %\n",
      "Sc    1208      1 %\n",
      "completed\n"
     ]
    }
   ],
   "source": [
    "galaxy_limited_list_count = 0\n",
    "class_count_list = []\n",
    "for class_name in unique_galaxy_class:\n",
    "    \n",
    "    galaxy_limited_list =pd.Series(np.array([i for i in range(len(dr7objid)) if galaxy_class[i] == class_name \\\n",
    "                                           and redshift_bin[i] <= max_redshift \\\n",
    "                                           and redshift_bin[i] >= min_redshift \\\n",
    "                                           and mr_bin[i] <= max_mr]))        \n",
    "    \n",
    "    galaxy_limited_list_count += len(galaxy_limited_list)\n",
    "    class_count_list +=[[class_name, len(galaxy_limited_list)]]\n",
    "    os.mkdir(sample_directory_base + '/' + class_name)\n",
    "    \n",
    "    for galaxy_index in galaxy_limited_list:\n",
    "        src = os.path.join(dataset_directory_base + '/' + class_name, fname[galaxy_index])\n",
    "        dst = os.path.join(sample_directory_base + '/' + class_name, fname[galaxy_index])\n",
    "        shutil.copyfile(src, dst)\n",
    "\n",
    "print(galaxy_limited_list_count, '  selected')\n",
    "for class_count in class_count_list:\n",
    "    class_ratio = int(class_count[1]) / galaxy_limited_list_count * 100\n",
    "    print(class_count[0], '  ', class_count[1], '    ', int(class_ratio), '%')\n",
    "        \n",
    "print('completed')\n"
   ]
  },
  {
   "cell_type": "code",
   "execution_count": null,
   "metadata": {},
   "outputs": [],
   "source": []
  }
 ],
 "metadata": {
  "kernelspec": {
   "display_name": "Python 3",
   "language": "python",
   "name": "python3"
  },
  "language_info": {
   "codemirror_mode": {
    "name": "ipython",
    "version": 3
   },
   "file_extension": ".py",
   "mimetype": "text/x-python",
   "name": "python",
   "nbconvert_exporter": "python",
   "pygments_lexer": "ipython3",
   "version": "3.6.6"
  }
 },
 "nbformat": 4,
 "nbformat_minor": 2
}
