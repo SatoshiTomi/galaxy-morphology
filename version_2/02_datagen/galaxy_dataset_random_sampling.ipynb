{
 "cells": [
  {
   "cell_type": "markdown",
   "metadata": {},
   "source": [
    "## GZ2フルデータセットからML対象データセットを作成（ランダムサンプリング・データセット）"
   ]
  },
  {
   "cell_type": "code",
   "execution_count": 1,
   "metadata": {},
   "outputs": [],
   "source": [
    "import os, shutil\n",
    "import sys, time\n",
    "import numpy as np\n",
    "import pandas as pd\n",
    "from astropy.io import fits\n",
    "\n",
    "# 作業用ディレクトリ定義（要カスタマイズ）\n",
    "galaxy_data_directory = '/home/satoshi/Galaxy/'\n",
    "\n",
    "# 新カテゴリカタログ\n",
    "gz2_catalog_v2 = galaxy_data_directory + 'gz2_catalog_hubble_12class.fits'\n",
    "\n",
    "# データセットベースディレクトリ\n",
    "dataset_directory_base = galaxy_data_directory + 'dataset_12class_full_256_01'\n",
    "# サンプル件数/クラス\n",
    "sample_size = 4000\n",
    "\n",
    "sample_directory_base = galaxy_data_directory + 'dataset_12class_random_256_01_' + str(sample_size)\n",
    "os.mkdir(sample_directory_base)\n"
   ]
  },
  {
   "cell_type": "code",
   "execution_count": 2,
   "metadata": {},
   "outputs": [
    {
     "name": "stdout",
     "output_type": "stream",
     "text": [
      "category_catalog_hubble rows =  239100\n"
     ]
    }
   ],
   "source": [
    "with fits.open(gz2_catalog_v2) as hdul:\n",
    "    data = hdul[1].data\n",
    "    \n",
    "    print('category_catalog_hubble rows = ', len(data))\n",
    "    galaxy_class = np.array(data.field('HUBBLE_CLASS'))\n",
    "    # FITSのBig endianをPandasのLittle endianに変換\n",
    "    #galaxy_dr7objid = np.array(data.field('dr7objid').byteswap().newbyteorder())\n",
    "    galaxy_redshift = np.array(data.field('REDSHIFT_SIMPLE_BIN').byteswap().newbyteorder())\n",
    "    galaxy_mgr = np.array(data.field('PETROMAG_MR_SIMPLE_BIN').byteswap().newbyteorder())\n",
    "    galaxy_fname = np.array(data.field('FILE_NAME'))\n",
    "    "
   ]
  },
  {
   "cell_type": "code",
   "execution_count": 3,
   "metadata": {},
   "outputs": [
    {
     "name": "stdout",
     "output_type": "stream",
     "text": [
      "['Sa' 'E3' 'E0' 'Sb' 'SBb' 'S0' 'E7' 'SB0' 'Edgeon' 'SBa' 'SBc' 'Sc']    12\n"
     ]
    }
   ],
   "source": [
    "galaxy_class_series = pd.Series(galaxy_class)\n",
    "galaxy_fname_series = pd.Series(galaxy_fname)\n",
    "galaxy_redshift_series = pd.Series(galaxy_redshift)\n",
    "galaxy_mgr_series = pd.Series(galaxy_mgr)\n",
    "#galaxy_dr7objid_series = pd.Series(galaxy_dr7objid)\n",
    "galaxy_dataframe = pd.DataFrame({'galaxy_class' : galaxy_class_series,\n",
    "                                                             'galaxy_fname' : galaxy_fname_series,\n",
    "                                                             'galaxy_redshift' : galaxy_redshift_series, \n",
    "                                                             'galaxy_mgr' : galaxy_mgr_series})\n",
    "\n",
    "#print(galaxy_dataframe)\n",
    "\n",
    "unique_galaxy_class = galaxy_dataframe['galaxy_class'].unique()\n",
    "print(unique_galaxy_class, '  ', len(unique_galaxy_class))\n",
    "\n",
    "for class_name in unique_galaxy_class :\n",
    "    os.mkdir(sample_directory_base + '/' + class_name)\n",
    "    "
   ]
  },
  {
   "cell_type": "markdown",
   "metadata": {},
   "source": [
    "#### データをランダムにサンプル件数分サンプリングする"
   ]
  },
  {
   "cell_type": "code",
   "execution_count": 4,
   "metadata": {},
   "outputs": [
    {
     "name": "stdout",
     "output_type": "stream",
     "text": [
      "completed\n"
     ]
    }
   ],
   "source": [
    "def select_random(df):\n",
    "    return df.sample(n=sample_size)\n",
    "\n",
    "random_galaxy = galaxy_dataframe.groupby('galaxy_class').apply(select_random)\n",
    "\n",
    "for galaxy in random_galaxy.values:\n",
    "    \n",
    "    class_name = galaxy[0]\n",
    "    fname = galaxy[1]\n",
    "    #print(fname)\n",
    "    src = os.path.join(dataset_directory_base + '/' + class_name, fname)\n",
    "    dst = os.path.join(sample_directory_base + '/' + class_name, fname)\n",
    "    shutil.copyfile(src, dst)\n",
    "\n",
    "print('completed')"
   ]
  },
  {
   "cell_type": "code",
   "execution_count": null,
   "metadata": {},
   "outputs": [],
   "source": []
  }
 ],
 "metadata": {
  "kernelspec": {
   "display_name": "Python 3",
   "language": "python",
   "name": "python3"
  },
  "language_info": {
   "codemirror_mode": {
    "name": "ipython",
    "version": 3
   },
   "file_extension": ".py",
   "mimetype": "text/x-python",
   "name": "python",
   "nbconvert_exporter": "python",
   "pygments_lexer": "ipython3",
   "version": "3.6.6"
  }
 },
 "nbformat": 4,
 "nbformat_minor": 2
}
